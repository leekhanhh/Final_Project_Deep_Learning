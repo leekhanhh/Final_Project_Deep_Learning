{
 "cells": [
  {
   "cell_type": "code",
   "execution_count": 10,
   "metadata": {},
   "outputs": [],
   "source": [
    "import numpy as np\n",
    "import matplotlib.pyplot as plt\n",
    "import random\n",
    "import glob\n",
    "import cv2\n",
    "import datetime\n",
    "import keras\n",
    "import tensorflow as tf\n",
    "import os\n",
    "import shutil\n",
    "import sys\n",
    "import time\n",
    "import json\n",
    "import argparse\n",
    "import warnings\n",
    "import seaborn as sns"
   ]
  },
  {
   "cell_type": "code",
   "execution_count": 11,
   "metadata": {},
   "outputs": [],
   "source": [
    "# Data preprocessing\n",
    "from keras.preprocessing.image import ImageDataGenerator  # For image data augmentation\n",
    "from keras.applications.inception_v3 import preprocess_input  # For preprocessing input images\n",
    "\n",
    "# Model architecture\n",
    "from keras import Sequential  # For building sequential models\n",
    "from keras.models import load_model  # For loading pre-trained models\n",
    "from keras.layers import Dense, GlobalAvgPool2D as GAP, Dropout  # For defining model layers\n",
    "\n",
    "# Training callbacks\n",
    "from keras.callbacks import ModelCheckpoint, EarlyStopping  # For training callbacks\n",
    "\n",
    "# Pre-trained models\n",
    "from tensorflow.keras.applications import InceptionV3, Xception, ResNet152V2  # For using pre-trained models\n"
   ]
  },
  {
   "cell_type": "code",
   "execution_count": 38,
   "metadata": {},
   "outputs": [
    {
     "name": "stdout",
     "output_type": "stream",
     "text": [
      "Class name list:  ['African Bush Elephant', 'African Lionfish', 'African Penguin', 'African Spurred Tortoise', 'Altamira Oriole', 'American Bison', 'American Cockroach', 'American Flamingo', 'American Marten', 'American Robin', 'American white ibis', 'Andean Condor', 'Ankylosaurus', 'Ant', 'Bald Eagle', 'Baltimore Oriole', 'Bee Hummingbird', 'Beluga', 'Bighorn Sheep', 'Black Rat', 'Black-capped Chickadee', 'Blue Jay', 'Blue Whale', 'Boto', 'Brown-throated Three-toed Sloth', 'Bullock Mountains False Toad', 'Canada Goose', 'Carolina Wren', 'Cat', 'Cheetah', 'Chicken', 'Coelacanth', 'Common Bottlenose Dolphin', 'Common Eland', 'Common House Fly', 'Common Lionfish', 'Common Ostrich', 'Corn Snake', 'Cougar', 'Crested Auklet', 'Crested Giant Gecko', 'Crocodile', \"Dead Man's Fingers\", 'Diplodocus', 'Domestic Cow', 'Domestic Dog', 'Dugong', 'Eastern Copperhead', 'Eastern Gray Squirrel', 'Eastern Kingbird', 'Eastern Ratsnake', 'Eastern Tiger Swallowtail', 'Emperor Penguin', 'Fossa', 'Gaur', 'Gharial', 'Giant Pacific octopus', 'Giant Panda', 'Giant Squid', 'Gila Monster', 'Golden Eagle', 'Golden Poison Dart Frog', 'Gorilla', 'Great Blue Heron', 'Great White Shark', 'Great hammerhead shark', 'Greater Roadrunner', 'Green Anaconda', 'Green Iguana', 'Green Sea Turtle', 'Grizzly Bear', 'Groove-billed Ani', 'Hippopotamus', 'Horse', 'Humpback Whale', 'Iguanadon', 'Indian Peafowl', 'Jaguar', 'Kangaroo', 'Killer Whale', 'King Cobra', 'Koala', 'Komodo Dragon', 'Leatherback Sea Turtle', 'Leopard', 'Leopard Seal', 'Lesser Blue-ringed Octopus', 'Lion', 'Mallard', 'Mediterranean Fruit Fly', 'Milk snake', 'Modern Humans', 'Monarch Butterfly', 'Moose', 'Moth', 'Narwhal', 'Nine-banded Armadillo', 'Northern Cardinal', 'Northern Flicker', 'Northern Giraffe', 'Northern Harrier', 'Northern Mockingbird', 'Okapi', 'Orangutan', 'Orchard Oriole', 'Painted Bunting', 'Painted Turtle', 'Peregrine Falcon', 'Plains Zebra', 'Platypus', 'Poison Dart Frog', 'Polar Bear', \"Portuguese Man o' War\", 'Pteranodon', 'Pygmy Tarsier', 'Raccoon', 'Red Fox', 'Red Panda', 'Red-bellied Woodpecker', 'Red-breasted Merganser', 'Reticulated Python', 'Ring-tailed Lemur', 'Salmon', 'Sambar', 'Scarlet Macaw', 'Sea Otter', 'Sheep', 'Siamese Fighting Fish', 'Smilodon', 'Snowshoe Hare', 'Sooty Albatross', 'Sperm Whale', 'Spinosaurus', 'Stegosaurus', 'Straw-coloured Fruit Bat', 'Striped Bark Scorpion', 'T. Rex', 'Tapir', 'Tiger', 'Tree Frog', 'Triceratops', 'Trilobites', 'Turkey Vulture', 'Vampire Bat', 'Walrus', 'Western Honey Bee', 'Western diamondback rattlesnake', 'White Rhino', 'Wildebeest', 'Wolf', 'Woolly Mammoth']\n",
      "Total species in dataset:  151\n"
     ]
    }
   ],
   "source": [
    "#Set path\n",
    "image_dataset = '../final_project/dataset/dataset/'\n",
    "class_names_path = '../final_project/translation.json'\n",
    "\n",
    "# Load class names from JSON file\n",
    "class_names = json.load(open(class_names_path))\n",
    "class_names = {v for k, v in class_names.items()}\n",
    "class_names = sorted(class_names)\n",
    "print(\"Class name list: \",class_names)\n",
    "\n",
    "num_classes = len(class_names)\n",
    "print(\"Total species in dataset: \",num_classes)"
   ]
  },
  {
   "cell_type": "code",
   "execution_count": 43,
   "metadata": {},
   "outputs": [
    {
     "name": "stdout",
     "output_type": "stream",
     "text": [
      "Class name and size:  {'African Bush Elephant': 33, 'African Lionfish': 50, 'African Penguin': 34, 'African Spurred Tortoise': 50, 'Altamira Oriole': 31, 'American Bison': 33, 'American Cockroach': 34, 'American Flamingo': 50, 'American Marten': 32, 'American Robin': 50, 'American white ibis': 30, 'Andean Condor': 49, 'Ankylosaurus': 50, 'Ant': 49, 'Bald Eagle': 50, 'Baltimore Oriole': 31, 'Bee Hummingbird': 50, 'Beluga': 34, 'Bighorn Sheep': 50, 'Black Rat': 31, 'Black-capped Chickadee': 50, 'Blue Jay': 50, 'Blue Whale': 32, 'Boto': 31, 'Brown-throated Three-toed Sloth': 32, 'Bullock Mountains False Toad': 50, 'Canada Goose': 50, 'Carolina Wren': 60, 'Cat': 50, 'Cheetah': 50, 'Chicken': 32, 'Coelacanth': 60, 'Common Bottlenose Dolphin': 60, 'Common Eland': 50, 'Common House Fly': 50, 'Common Lionfish': 30, 'Common Ostrich': 50, 'Corn Snake': 36, 'Cougar': 60, 'Crested Auklet': 31, 'Crested Giant Gecko': 34, 'Crocodile': 50, \"Dead Man's Fingers\": 50, 'Diplodocus': 50, 'Domestic Cow': 36, 'Domestic Dog': 59, 'Dugong': 50, 'Eastern Copperhead': 32, 'Eastern Gray Squirrel': 36, 'Eastern Kingbird': 33, 'Eastern Ratsnake': 27, 'Eastern Tiger Swallowtail': 33, 'Emperor Penguin': 50, 'Fossa': 50, 'Gaur': 32, 'Gharial': 30, 'Giant Pacific octopus': 30, 'Giant Panda': 33, 'Giant Squid': 34, 'Gila Monster': 33, 'Golden Eagle': 33, 'Golden Poison Dart Frog': 36, 'Gorilla': 31, 'Great Blue Heron': 35, 'Great White Shark': 50, 'Great hammerhead shark': 32, 'Greater Roadrunner': 36, 'Green Anaconda': 33, 'Green Iguana': 49, 'Green Sea Turtle': 35, 'Grizzly Bear': 32, 'Groove-billed Ani': 31, 'Hippopotamus': 29, 'Horse': 34, 'Humpback Whale': 50, 'Iguanadon': 60, 'Indian Peafowl': 50, 'Jaguar': 34, 'Kangaroo': 31, 'Killer Whale': 50, 'King Cobra': 33, 'Koala': 50, 'Komodo Dragon': 60, 'Leatherback Sea Turtle': 34, 'Leopard': 32, 'Leopard Seal': 33, 'Lesser Blue-ringed Octopus': 33, 'Lion': 60, 'Mallard': 46, 'Mediterranean Fruit Fly': 60, 'Milk snake': 35, 'Modern Humans': 50, 'Monarch Butterfly': 50, 'Moose': 50, 'Moth': 50, 'Narwhal': 35, 'Nine-banded Armadillo': 50, 'Northern Cardinal': 33, 'Northern Flicker': 33, 'Northern Giraffe': 32, 'Northern Harrier': 33, 'Northern Mockingbird': 50, 'Okapi': 47, 'Orangutan': 49, 'Orchard Oriole': 34, 'Painted Bunting': 28, 'Painted Turtle': 60, 'Peregrine Falcon': 60, 'Plains Zebra': 36, 'Platypus': 50, 'Poison Dart Frog': 50, 'Polar Bear': 50, \"Portuguese Man o' War\": 50, 'Pteranodon': 32, 'Pygmy Tarsier': 50, 'Raccoon': 50, 'Red Fox': 50, 'Red Panda': 32, 'Red-bellied Woodpecker': 50, 'Red-breasted Merganser': 30, 'Reticulated Python': 34, 'Ring-tailed Lemur': 28, 'Salmon': 34, 'Sambar': 50, 'Scarlet Macaw': 33, 'Sea Otter': 29, 'Sheep': 50, 'Siamese Fighting Fish': 28, 'Smilodon': 50, 'Snowshoe Hare': 30, 'Sooty Albatross': 50, 'Sperm Whale': 34, 'Spinosaurus': 31, 'Stegosaurus': 26, 'Straw-coloured Fruit Bat': 50, 'Striped Bark Scorpion': 35, 'T. Rex': 58, 'Tapir': 36, 'Tiger': 50, 'Tree Frog': 50, 'Triceratops': 31, 'Trilobites': 29, 'Turkey Vulture': 50, 'Vampire Bat': 29, 'Walrus': 34, 'Western Honey Bee': 50, 'Western diamondback rattlesnake': 44, 'White Rhino': 34, 'Wildebeest': 35, 'Wolf': 60, 'Woolly Mammoth': 50}\n"
     ]
    }
   ],
   "source": [
    "# Get the number of samples in each class\n",
    "class_names_dir = []\n",
    "for sub_dir in os.listdir(image_dataset):\n",
    "    sub_name = os.path.join(image_dataset, sub_dir)\n",
    "    if os.path.isdir(sub_name):\n",
    "        num_items = len(os.listdir(sub_name))\n",
    "        class_names_dir.append(num_items)\n",
    "\n",
    "#size of each sub-class\n",
    "class_names_size = dict(zip(class_names, class_names_dir))\n",
    "print(\"Class name and size: \", class_names_size)"
   ]
  },
  {
   "cell_type": "code",
   "execution_count": null,
   "metadata": {},
   "outputs": [],
   "source": [
    "    "
   ]
  }
 ],
 "metadata": {
  "kernelspec": {
   "display_name": "my_env",
   "language": "python",
   "name": "python3"
  },
  "language_info": {
   "codemirror_mode": {
    "name": "ipython",
    "version": 3
   },
   "file_extension": ".py",
   "mimetype": "text/x-python",
   "name": "python",
   "nbconvert_exporter": "python",
   "pygments_lexer": "ipython3",
   "version": "3.11.5"
  }
 },
 "nbformat": 4,
 "nbformat_minor": 2
}
